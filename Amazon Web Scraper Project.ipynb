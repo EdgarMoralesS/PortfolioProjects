{
 "cells": [
  {
   "cell_type": "markdown",
   "id": "8e782c5f-6a45-47dd-8ba9-58a7c25b2e31",
   "metadata": {},
   "source": [
    "# Amazon Web Scrapper Project\n",
    "\n",
    "<h3 style=\"color:blue;\">Obtener información de un producto de amazon para hacer un seguimiento del precio a lo largo del tiempo.</h3>\n",
    "\n"
   ]
  },
  {
   "cell_type": "code",
   "execution_count": 1,
   "id": "a05d8b1d-eece-4417-a893-349721bfda9e",
   "metadata": {},
   "outputs": [],
   "source": [
    "# Importamos las librerias\n",
    "\n",
    "from bs4 import BeautifulSoup \n",
    "import re \n",
    "import requests \n",
    "import time\n",
    "\n",
    "\n",
    "import smtplib \n"
   ]
  },
  {
   "cell_type": "markdown",
   "id": "049b5423-0a18-4f46-81f0-13aa0cdb87ea",
   "metadata": {},
   "source": [
    "### Obtenemos la informacion desde Amazon.\n",
    "\n",
    "Desde la pagina podemos seleccionar un elemento para inspeccionarlo, asi obtener la información requerida. En nuestro caso haremos:\n",
    "\n",
    "* Titulo\n",
    "* Precio\n",
    "\n",
    "Para obtener el User Agent, usamos la página: https://httpbin.org/get\n"
   ]
  },
  {
   "cell_type": "code",
   "execution_count": 4,
   "id": "bb45d55d-902c-48e1-9d4d-7c34d9fbdbe9",
   "metadata": {},
   "outputs": [
    {
     "name": "stdout",
     "output_type": "stream",
     "text": [
      "\n",
      "                            449\n",
      "                            \n",
      "                             .\n",
      "                            \n",
      "\n",
      "\n",
      "             Amazon Fire TV Stick con control remoto por voz Alexa (incluye control de TV), Dispositivo de streaming HD, edición 2021\n",
      "            \n"
     ]
    }
   ],
   "source": [
    "# Conectamos con el sitio\n",
    "\n",
    "URL = 'https://www.amazon.com.mx/nuevo-fire-tv-stick-con-control-remoto-por-voz-alexa/dp/B08C1TMCH5/ref=sr_1_2?crid=3LGI18KNXR30A&dib=eyJ2IjoiMSJ9.cXcuTIkDqJi4Ay9pLr4v6XyjdCvECpEAy0wd90ClyZpuoUQ5ON8yrxNQSbPfeBGaK-a57PFCvAvn5fEVC7K-uISorSTE63ZSXG1Hl4NrapJGTSBGRWZIEa8SsVGXjRtwLwmkDV3ECePKt9ztNQFbQsr3JeH0hC2Gwx5EckkQiI9P9pKwhKMmgu0RvG7Akq-yP0T0MHBM3P3ZvsWHE6yh3_Vr0oR5sUE7qfKg1Cj7NZku4QmKc9tmAdYGnICzGzIG16Or9LvnytFjpivqshFDhapAS1xtlymROTA5Ymk6W34.kft-2CL0pJ0nken5eJItD4nnk5zLmBC4m50HYL9KY88&dib_tag=se&keywords=amazon+fire+tv&qid=1731519879&sprefix=amazon+f%2Caps%2C172&sr=8-2&ufe=app_do%3Aamzn1.fos.de93fa6a-174c-4df7-be7c-5bc8e9c5a71b'\n",
    "#URL = 'https://www.amazon.com.mx/dp/B091G6H7NP/ref=pav_fromAsin_B08C1TMCH5_toAsin_B091G6H7NP'\n",
    "headers = {\"User-Agent\": \"Mozilla/5.0 (Windows NT 10.0; Win64; x64) AppleWebKit/537.36 (KHTML, like Gecko) Chrome/130.0.0.0 Safari/537.36 Edg/130.0.0.0\", \"Accept-Encoding\":\"gzip, deflate\", \"Accept\":\"text/html,application/xhtml+xml,application/xml;q=0.9,*/*;q=0.8\", \"DNT\":\"1\",\"Connection\":\"close\", \"Upgrade-Insecure-Requests\":\"1\"}\n",
    "\n",
    "page = requests.get(URL, headers=headers)\n",
    "\n",
    "soup1 = BeautifulSoup(page.content, 'html.parser')\n",
    "#Le damos formato \n",
    "soup2 = BeautifulSoup(soup1.prettify(), 'html.parser')\n",
    "#Permite encontrar el titulo y el precio del producto en la URL\n",
    "title = soup2.find(id = 'productTitle').get_text()\n",
    "price = soup2.select_one(\".a-price-whole\").get_text()\n",
    "\n",
    "\n",
    "print(price)\n",
    "print(title)\n",
    "\n",
    "\n",
    "\n",
    "\n",
    "\n"
   ]
  },
  {
   "cell_type": "markdown",
   "id": "4c1daf8c-62cd-47f9-bbb1-25fbcc6b165e",
   "metadata": {},
   "source": [
    "### Limpiamos la info.\n",
    "\n",
    "Usando re, podemos limpiar espacios vacios u obtener digitos."
   ]
  },
  {
   "cell_type": "code",
   "execution_count": 7,
   "id": "792615d4-56ee-4e0d-be6f-ba2256525ff3",
   "metadata": {},
   "outputs": [
    {
     "name": "stdout",
     "output_type": "stream",
     "text": [
      "449\n",
      "Amazon Fire TV Stick con control remoto por voz Alexa (incluye control de TV), Dispositivo de streaming HD, edición 2021\n"
     ]
    }
   ],
   "source": [
    "price = re.sub(r'\\D', '', price)\n",
    "title = re.sub(r'\\s+', ' ', title).strip()\n",
    "\n",
    "print(price)\n",
    "print(title)"
   ]
  },
  {
   "cell_type": "markdown",
   "id": "5612cbc0-e69b-4eec-ad85-c1a6b2488db5",
   "metadata": {},
   "source": [
    "Podemos obtener la **fecha** a la que se hizo la busqueda de la informacion."
   ]
  },
  {
   "cell_type": "code",
   "execution_count": 10,
   "id": "04d6f69f-b930-4970-8d67-d1f4794c86fc",
   "metadata": {},
   "outputs": [],
   "source": [
    "import datetime\n",
    "today = datetime.date.today()\n",
    "\n"
   ]
  },
  {
   "cell_type": "markdown",
   "id": "49626808-48cd-49c1-afcf-2b39113ab8c3",
   "metadata": {},
   "source": [
    "### Creacion del CSV\n",
    "Ahora importemos a un csv la información, usando csv. \n",
    "* Hacemos los encabezados de la tabla.\n",
    "* Escribimos la informacion que recolectamos.\n",
    " "
   ]
  },
  {
   "cell_type": "code",
   "execution_count": 13,
   "id": "8e6d4de5-9c48-45ac-a3fb-e16f195d66db",
   "metadata": {},
   "outputs": [],
   "source": [
    "import csv \n",
    "\n",
    "header = ['Title', 'Price' ]\n",
    "data = [title, price, today]\n",
    "\n",
    "''' Comentamos para no borrar la informacion previa.\n",
    "with open('AmazonWebScrapper.csv', 'w', newline='', encoding='UTF8') as f:\n",
    "    writer = csv.writer(f)\n",
    "    writer.writerow(header)\n",
    "    writer.writerow(data)\n",
    "'''\n",
    "\n",
    "\n",
    "\n",
    "\n",
    "\n"
   ]
  },
  {
   "cell_type": "markdown",
   "id": "6c3943ea-0d06-4460-b4fb-e44a5ce7e538",
   "metadata": {},
   "source": [
    "### Leer el csv aqui con Pandas\n",
    "\n",
    "Importamos la informacion para no tener que abrir en excel la informacion cada vez."
   ]
  },
  {
   "cell_type": "code",
   "execution_count": 16,
   "id": "8a80ebe5-7d6e-47d1-84da-82b97c43bcb4",
   "metadata": {},
   "outputs": [
    {
     "name": "stdout",
     "output_type": "stream",
     "text": [
      "                                                    Title       Price\n",
      "Amazon Fire TV Stick con control remoto por voz...    449  2024-11-14\n"
     ]
    }
   ],
   "source": [
    "import pandas as pd\n",
    "df = pd.read_csv(r\"C:\\Users\\edgar\\AmazonWebScrapper.csv\")\n",
    "print(df)\n"
   ]
  },
  {
   "cell_type": "markdown",
   "id": "03ab421a-f4b0-4d92-985d-f12564a543c5",
   "metadata": {},
   "source": [
    "### Agregar informacion al csv.\n"
   ]
  },
  {
   "cell_type": "code",
   "execution_count": 19,
   "id": "ce7578d7-835f-4de8-a9e9-92303a8235e0",
   "metadata": {},
   "outputs": [],
   "source": [
    "with open('AmazonWebScrapper.csv', 'a+', newline='', encoding='UTF8') as f:\n",
    "    writer = csv.writer(f)\n",
    "    writer.writerow(data)"
   ]
  },
  {
   "cell_type": "code",
   "execution_count": 21,
   "id": "7d469bf7-d246-4237-8092-9a33ed93b9da",
   "metadata": {},
   "outputs": [],
   "source": [
    "def check_price():\n",
    "    #Obtenemos la info.\n",
    "    URL = 'https://www.amazon.com.mx/nuevo-fire-tv-stick-con-control-remoto-por-voz-alexa/dp/B08C1TMCH5/ref=sr_1_2?crid=3LGI18KNXR30A&dib=eyJ2IjoiMSJ9.cXcuTIkDqJi4Ay9pLr4v6XyjdCvECpEAy0wd90ClyZpuoUQ5ON8yrxNQSbPfeBGaK-a57PFCvAvn5fEVC7K-uISorSTE63ZSXG1Hl4NrapJGTSBGRWZIEa8SsVGXjRtwLwmkDV3ECePKt9ztNQFbQsr3JeH0hC2Gwx5EckkQiI9P9pKwhKMmgu0RvG7Akq-yP0T0MHBM3P3ZvsWHE6yh3_Vr0oR5sUE7qfKg1Cj7NZku4QmKc9tmAdYGnICzGzIG16Or9LvnytFjpivqshFDhapAS1xtlymROTA5Ymk6W34.kft-2CL0pJ0nken5eJItD4nnk5zLmBC4m50HYL9KY88&dib_tag=se&keywords=amazon+fire+tv&qid=1731519879&sprefix=amazon+f%2Caps%2C172&sr=8-2&ufe=app_do%3Aamzn1.fos.de93fa6a-174c-4df7-be7c-5bc8e9c5a71b'\n",
    "    headers = {\"User-Agent\": \"Mozilla/5.0 (Windows NT 10.0; Win64; x64) AppleWebKit/537.36 (KHTML, like Gecko) Chrome/130.0.0.0 Safari/537.36 Edg/130.0.0.0\", \"Accept-Encoding\":\"gzip, deflate\", \"Accept\":\"text/html,application/xhtml+xml,application/xml;q=0.9,*/*;q=0.8\", \"DNT\":\"1\",\"Connection\":\"close\", \"Upgrade-Insecure-Requests\":\"1\"}\n",
    "    \n",
    "    page = requests.get(URL, headers=headers)\n",
    "    \n",
    "    soup1 = BeautifulSoup(page.content, 'html.parser')\n",
    "\n",
    "    soup2 = BeautifulSoup(soup1.prettify(), 'html.parser')\n",
    "   \n",
    "    title = soup2.find(id = 'productTitle').get_text()\n",
    "    price = soup2.select_one(\".a-price-whole\").get_text()\n",
    "\n",
    "    #Limpiamos\n",
    "    price = re.sub(r'\\D', '', price)\n",
    "    title = re.sub(r'\\s+', ' ', title).strip()\n",
    "\n",
    "    #Fecha\n",
    "    import datetime\n",
    "    today = datetime.date.today()\n",
    "\n",
    "    #Data\n",
    "    data = [title, price, today]\n",
    "\n",
    "    \n",
    "    #CSV appending\n",
    "    import csv\n",
    "    with open('AmazonWebScrapper.csv', 'a+', newline='', encoding='UTF8') as f:\n",
    "        writer = csv.writer(f)\n",
    "        writer.writerow(data)\n",
    "    \n",
    "    \n",
    "    "
   ]
  },
  {
   "cell_type": "markdown",
   "id": "7921a562-d791-4434-9ec0-2d0096ea5e6e",
   "metadata": {},
   "source": [
    "### Ahora podemos hacer el chequeo cada cierto tiempo, por ejemplo cada dia. "
   ]
  },
  {
   "cell_type": "code",
   "execution_count": null,
   "id": "8d83e5d0-1954-41b2-9575-702308a4c0e9",
   "metadata": {},
   "outputs": [],
   "source": [
    "while(True):\n",
    "    check_price()\n",
    "    undia = 24*60*60\n",
    "    time.sleep(undia)"
   ]
  },
  {
   "cell_type": "code",
   "execution_count": null,
   "id": "07b19a5b-b58f-43b3-befb-b568b529857f",
   "metadata": {},
   "outputs": [],
   "source": [
    "import pandas as pd\n",
    "df = pd.read_csv(r\"C:\\Users\\edgar\\AmazonWebScrapper.csv\")\n",
    "print(df)"
   ]
  },
  {
   "cell_type": "code",
   "execution_count": null,
   "id": "c2c065ec-9b5f-4d53-acba-e5b682985c69",
   "metadata": {},
   "outputs": [],
   "source": []
  }
 ],
 "metadata": {
  "kernelspec": {
   "display_name": "Python 3 (ipykernel)",
   "language": "python",
   "name": "python3"
  },
  "language_info": {
   "codemirror_mode": {
    "name": "ipython",
    "version": 3
   },
   "file_extension": ".py",
   "mimetype": "text/x-python",
   "name": "python",
   "nbconvert_exporter": "python",
   "pygments_lexer": "ipython3",
   "version": "3.12.7"
  }
 },
 "nbformat": 4,
 "nbformat_minor": 5
}
